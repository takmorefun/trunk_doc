{
 "cells": [
  {
   "cell_type": "code",
   "execution_count": 1,
   "metadata": {
    "colab": {
     "autoexec": {
      "startup": false,
      "wait_interval": 0
     }
    },
    "colab_type": "code",
    "collapsed": true,
    "id": "IoLYqdHY570k"
   },
   "outputs": [],
   "source": [
    "import poloniex\n",
    "import time\n",
    "import numpy as np\n",
    "import math\n",
    "import datetime\n",
    "import pandas as pd\n",
    "import matplotlib.pyplot as plt\n",
    "import matplotlib.dates as mdates\n",
    "from matplotlib import rcParams\n",
    "from matplotlib.ticker import *\n",
    "%matplotlib inline"
   ]
  },
  {
   "cell_type": "code",
   "execution_count": 2,
   "metadata": {
    "colab": {
     "autoexec": {
      "startup": false,
      "wait_interval": 0
     }
    },
    "colab_type": "code",
    "collapsed": true,
    "id": "_45NQKlR5c_l"
   },
   "outputs": [],
   "source": [
    "polo = poloniex.Poloniex()\n",
    "# 変換可能な通貨一覧を取得\n",
    "pairs = [pair for pair in polo.returnTicker()]"
   ]
  },
  {
   "cell_type": "code",
   "execution_count": 3,
   "metadata": {
    "colab": {
     "autoexec": {
      "startup": false,
      "wait_interval": 0
     }
    },
    "colab_type": "code",
    "collapsed": true,
    "id": "uuLci17m5c_q"
   },
   "outputs": [],
   "source": [
    "#データフレームの作成\n",
    "currency_histrical_data = pd.DataFrame()"
   ]
  },
  {
   "cell_type": "code",
   "execution_count": 28,
   "metadata": {
    "colab": {
     "autoexec": {
      "startup": false,
      "wait_interval": 0
     }
    },
    "colab_type": "code",
    "collapsed": true,
    "id": "dJOpBwcq5c_u"
   },
   "outputs": [],
   "source": [
    "#サンプリングする時間の変数を設定\n",
    "end_time = time.time()\n",
    "num_data = 22000\n",
    "\n",
    "#サンプリング間隔の設定(分)\n",
    "sampling_period = 15\n",
    "sampling_period_sec = sampling_period * 60\n",
    "\n",
    "start_time = time.time()-num_data*sampling_period_sec\n",
    "\n",
    "#現在時刻取得\n",
    "current_time = datetime.datetime.now().strftime('%Y%m%d')\n",
    "\n",
    "#取得する通貨情報一覧\n",
    "convert_list_all = ['USDT_ETH','USDT_BTC','USDT_ETC','USDT_STR','USDT_DASH',\n",
    "                'USDT_REP','USDT_LTC','USDT_XMR','USDT_BCH','USDT_NXT',\n",
    "                'USDT_ZEC','USDT_XRP']\n",
    "#USDT_BCHは欠損値が多いので、除外\n",
    "convert_list = ['USDT_ETH','USDT_BTC','USDT_ETC','USDT_STR','USDT_DASH',\n",
    "                'USDT_REP','USDT_LTC','USDT_XMR','USDT_NXT','USDT_ZEC','USDT_XRP']\n",
    "\n",
    "#予測対象の通貨ペアの設定\n",
    "target_pair = 'USDT_BTC'\n",
    "\n",
    "save_file_train = './currency_data/'+ target_pair + '_'+ str(sampling_period) + 'minutes_4month_'+ current_time + '.csv'"
   ]
  },
  {
   "cell_type": "code",
   "execution_count": 5,
   "metadata": {
    "colab": {
     "autoexec": {
      "startup": false,
      "wait_interval": 0
     },
     "base_uri": "https://localhost:8080/",
     "height": 34
    },
    "colab_type": "code",
    "collapsed": false,
    "executionInfo": {
     "elapsed": 513,
     "status": "ok",
     "timestamp": 1526070832760,
     "user": {
      "displayName": "松本拓也",
      "photoUrl": "https://lh3.googleusercontent.com/a/default-user=s128",
      "userId": "103398952520549779304"
     },
     "user_tz": -540
    },
    "id": "wQ5bBN0G5c_y",
    "outputId": "a95307d1-836b-4514-a19c-01d4d5f84b2f"
   },
   "outputs": [
    {
     "name": "stdout",
     "output_type": "stream",
     "text": [
      "1506293482.325984 : 1526093482.325984 : 66000.0\n"
     ]
    }
   ],
   "source": [
    "print(start_time, \":\",end_time, \":\", (end_time - start_time)/5/60)"
   ]
  },
  {
   "cell_type": "code",
   "execution_count": 7,
   "metadata": {
    "colab": {
     "autoexec": {
      "startup": false,
      "wait_interval": 0
     }
    },
    "colab_type": "code",
    "collapsed": true,
    "id": "MMcyLrkY5dAA"
   },
   "outputs": [],
   "source": [
    "# 指定したサンプリング間隔で120日分のデータを読み込む\n",
    "for each_currency in convert_list:\n",
    "    chart_data = polo.returnChartData(each_currency, period=sampling_period_sec, start=start_time, end=end_time)    \n",
    "    chart_frame = pd.DataFrame(chart_data)\n",
    "    chart_frame['date_date'] = chart_frame.date.apply(lambda x:datetime.datetime.fromtimestamp(int(x)).strftime('%Y-%m-%d %H:%M:%S'))\n",
    "    currency_histrical_data[each_currency + \"_close\"]=chart_frame['close']\n",
    "    currency_histrical_data[each_currency + \"_high\"]=chart_frame['high']\n",
    "    currency_histrical_data[each_currency + \"_low\"]=chart_frame['low']\n",
    "    currency_histrical_data[each_currency + \"_open\"]=chart_frame['open']\n",
    "    currency_histrical_data[each_currency + \"_volume\"]=chart_frame['volume']\n",
    "    time.sleep(1) #IPがbanされないように、1秒間sleep\n",
    "currency_histrical_data['DATE_DATE'] = chart_frame['date_date']"
   ]
  },
  {
   "cell_type": "code",
   "execution_count": 9,
   "metadata": {
    "colab": {
     "autoexec": {
      "startup": false,
      "wait_interval": 0
     }
    },
    "colab_type": "code",
    "collapsed": true,
    "id": "ftUiC6Jn5dAE"
   },
   "outputs": [],
   "source": [
    "currency_histrical_data.to_csv(save_file_train, index=False, encoding='UTF-8_sig')"
   ]
  },
  {
   "cell_type": "code",
   "execution_count": 29,
   "metadata": {
    "colab": {
     "autoexec": {
      "startup": false,
      "wait_interval": 0
     }
    },
    "colab_type": "code",
    "collapsed": false,
    "id": "bBHJh1dr5dAI"
   },
   "outputs": [],
   "source": [
    "#データの読み込み\n",
    "currency_hist_data = pd.read_csv(save_file_train, encoding='UTF-8_sig')\n",
    "#日付のDATE型に変更しておく\n",
    "currency_hist_data['DATE'] = currency_hist_data.DATE_DATE.apply(lambda x: datetime.datetime.strptime(x, '%Y-%m-%d %H:%M:%S'))\n",
    "currency_hist_data = currency_hist_data.drop([\"DATE_DATE\"], axis=1)\n",
    "#データ加工用にdateをindex化\n",
    "currency_hist_data2 = currency_hist_data.set_index(['DATE'])"
   ]
  },
  {
   "cell_type": "code",
   "execution_count": 30,
   "metadata": {
    "colab": {
     "autoexec": {
      "startup": false,
      "wait_interval": 0
     }
    },
    "colab_type": "code",
    "collapsed": true,
    "id": "HNRw6inS5dAN"
   },
   "outputs": [],
   "source": [
    "#通貨ごとにSMAと±2σのボリンジャーバンドの値、および前の観測タイミングと比較した傾きを変数として追加\n",
    "\n",
    "#移動平均の算出\n",
    "def calc_moving_average(baseday, delta, target):\n",
    "    day_before_20 = baseday - datetime.timedelta(minutes=delta)\n",
    "    try:\n",
    "        #一日毎の値を取得\n",
    "        time_delta_data = currency_hist_data2.loc[(day_before_20):(baseday)]\n",
    "    except:\n",
    "        return np.NaN\n",
    "    \n",
    "    return  time_delta_data[target + \"_close\"].mean()\n",
    "\n",
    "#ボリンジャーバンド算出\n",
    "def calc_BB(baseday, delta, target, target_sigma, SMA):\n",
    "    day_before_20 = baseday - datetime.timedelta(minutes=delta)\n",
    "    try:\n",
    "        #一日毎の値を取得\n",
    "        time_delta_data = currency_hist_data2.loc[(day_before_20):(baseday)]\n",
    "    except:\n",
    "        return np.NaN\n",
    "    \n",
    "    std_ = time_delta_data[target + \"_close\"].std()\n",
    "    return 0 if math.isnan(std_) else SMA + target_sigma*std_"
   ]
  },
  {
   "cell_type": "code",
   "execution_count": null,
   "metadata": {
    "colab": {
     "autoexec": {
      "startup": false,
      "wait_interval": 0
     }
    },
    "colab_type": "code",
    "collapsed": false,
    "id": "NaoeYciT5dAS"
   },
   "outputs": [],
   "source": [
    "sampling_delta = int(5*sampling_period)\n",
    "for each_currency in convert_list:\n",
    "    currency_hist_data[each_currency + '_SMA'] = currency_hist_data.apply(lambda x:calc_moving_average(x.DATE, sampling_delta, each_currency), axis=1)\n",
    "    currency_hist_data[each_currency + '_plus2sigma'] = currency_hist_data.apply(lambda x:calc_BB(x.DATE, sampling_delta, each_currency, 2, x[each_currency + '_SMA']), axis=1)\n",
    "    currency_hist_data[each_currency + '_plus1sigma'] = currency_hist_data.apply(lambda x:calc_BB(x.DATE, sampling_delta, each_currency, 1, x[each_currency + '_SMA']), axis=1)\n",
    "    currency_hist_data[each_currency + '_minus1sigma'] = currency_hist_data.apply(lambda x:calc_BB(x.DATE, sampling_delta, each_currency, -1, x[each_currency + '_SMA']), axis=1)\n",
    "    currency_hist_data[each_currency + '_minus2sigma'] = currency_hist_data.apply(lambda x:calc_BB(x.DATE, sampling_delta, each_currency, -2, x[each_currency + '_SMA']), axis=1)"
   ]
  },
  {
   "cell_type": "code",
   "execution_count": 16,
   "metadata": {
    "colab": {
     "autoexec": {
      "startup": false,
      "wait_interval": 0
     }
    },
    "colab_type": "code",
    "collapsed": true,
    "id": "Jv-W-khH5dAZ"
   },
   "outputs": [],
   "source": [
    "#データ加工用にdateをindex化\n",
    "currency_hist_data2 = currency_hist_data.set_index(['DATE'])\n",
    "\n",
    "#5分前とのdiffを取る\n",
    "def get_diff(baseday, delta, diff_value, target_column):\n",
    "    targetday = baseday - datetime.timedelta(minutes=delta)\n",
    "    try:\n",
    "        targetday_list = currency_hist_data2.loc[(targetday)]\n",
    "    except:\n",
    "        return np.NaN\n",
    "    return float(diff_value) - float(targetday_list[target_column])"
   ]
  },
  {
   "cell_type": "code",
   "execution_count": 17,
   "metadata": {
    "colab": {
     "autoexec": {
      "startup": false,
      "wait_interval": 0
     }
    },
    "colab_type": "code",
    "collapsed": true,
    "id": "8NcrouTM5dAc"
   },
   "outputs": [],
   "source": [
    "for each_currency in convert_list:\n",
    "    currency_hist_data[each_currency + '_open_diff'] = currency_hist_data.apply(lambda x:get_diff(x.DATE, sampling_period, x[each_currency + '_open'], each_currency + '_open'), axis=1)\n",
    "    currency_hist_data[each_currency + '_high_diff'] = currency_hist_data.apply(lambda x:get_diff(x.DATE, sampling_period, x[each_currency + '_high'], each_currency + '_high'), axis=1)\n",
    "    currency_hist_data[each_currency + '_low_diff'] = currency_hist_data.apply(lambda x:get_diff(x.DATE, sampling_period, x[each_currency + '_low'], each_currency + '_low'), axis=1)\n",
    "    currency_hist_data[each_currency + '_close_diff'] = currency_hist_data.apply(lambda x:get_diff(x.DATE, sampling_period, x[each_currency + '_close'], each_currency + '_close'), axis=1)\n",
    "    currency_hist_data[each_currency + '_volume_diff'] = currency_hist_data.apply(lambda x:get_diff(x.DATE, sampling_period, x[each_currency + '_close'], each_currency + '_volume'), axis=1)\n",
    "    currency_hist_data[each_currency + '_SMA_diff'] = currency_hist_data.apply(lambda x:get_diff(x.DATE, sampling_period, x[each_currency + '_SMA'], each_currency + '_SMA'), axis=1)\n",
    "    currency_hist_data[each_currency + '_plus2sigma_diff'] = currency_hist_data.apply(lambda x:get_diff(x.DATE, sampling_period, x[each_currency + '_plus2sigma'], each_currency + '_plus2sigma'), axis=1)\n",
    "    currency_hist_data[each_currency + '_plus1sigma_diff'] = currency_hist_data.apply(lambda x:get_diff(x.DATE, sampling_period, x[each_currency + '_plus1sigma'], each_currency + '_plus1sigma'), axis=1)\n",
    "    currency_hist_data[each_currency + '_minus1sigma_diff'] = currency_hist_data.apply(lambda x:get_diff(x.DATE, sampling_period, x[each_currency + '_minus1sigma'], each_currency + '_minus1sigma'), axis=1)\n",
    "    currency_hist_data[each_currency + '_minus2sigma_diff'] = currency_hist_data.apply(lambda x:get_diff(x.DATE, sampling_period, x[each_currency + '_minus2sigma'], each_currency + '_minus2sigma'), axis=1)  "
   ]
  },
  {
   "cell_type": "code",
   "execution_count": 24,
   "metadata": {
    "colab": {
     "autoexec": {
      "startup": false,
      "wait_interval": 0
     }
    },
    "colab_type": "code",
    "collapsed": false,
    "id": "NtmAJyid5dAg"
   },
   "outputs": [],
   "source": [
    "#目的変数の設定\n",
    "def get_price_after_delta(baseday, delta_minutes, target):\n",
    "    targetday = baseday + datetime.timedelta(minutes=delta_minutes)\n",
    "    try:\n",
    "        targetday_list = currency_hist_data2.loc[(targetday)]\n",
    "    except:\n",
    "        return np.NaN\n",
    "    return targetday_list[target + \"_close\"]\n",
    "    \n",
    "    \n",
    "currency_hist_data[target_pair + '_close_after_' + str(sampling_period) + 'min'] = currency_hist_data.apply(lambda x:get_price_after_delta(x.DATE, sampling_period, target_pair), axis=1)"
   ]
  },
  {
   "cell_type": "code",
   "execution_count": 25,
   "metadata": {
    "colab": {
     "autoexec": {
      "startup": false,
      "wait_interval": 0
     }
    },
    "colab_type": "code",
    "collapsed": true,
    "id": "Dm9hJfLh5dAs"
   },
   "outputs": [],
   "source": [
    "#現在と15分後の金額の差分を取る\n",
    "currency_hist_data[target_pair + '_close_after_' + str(sampling_period) + 'min_diff'] = currency_hist_data.apply(lambda x: x[target_pair + '_close_after_' + str(sampling_period) + 'min'] - x[target_pair + '_SMA'], axis=1)\n",
    "#上がったか下がったかの０１判定\n",
    "currency_hist_data[target_pair + '_close_after_' + str(sampling_period) + 'min_flag'] = currency_hist_data.apply(lambda x: 1 if x[target_pair + '_close_after_' + str(sampling_period) + 'min_diff'] > 0 else 0, axis=1)\n",
    "\n",
    "#現在と15分後の金額の比率を取る\n",
    "currency_hist_data[target_pair + '_close_after_' + str(sampling_period) + 'min_ratio'] = currency_hist_data.apply(lambda x: x[target_pair + '_close_after_' + str(sampling_period) + 'min']/x[target_pair + '_SMA'], axis=1)\n",
    "\n",
    "#比率の自然対数もとる\n",
    "currency_hist_data[target_pair + '_close_after_' + str(sampling_period) + 'min_log'] = currency_hist_data.apply(lambda x: math.log(x[target_pair + '_close_after_' + str(sampling_period) + 'min_ratio']), axis=1)"
   ]
  },
  {
   "cell_type": "code",
   "execution_count": 26,
   "metadata": {
    "colab": {
     "autoexec": {
      "startup": false,
      "wait_interval": 0
     }
    },
    "colab_type": "code",
    "collapsed": true,
    "id": "TwgdRilC5dAw"
   },
   "outputs": [],
   "source": [
    "#加工済みデータの保存\n",
    "save_file_train2 = './currency_data/'+ target_pair + '_' + str(sampling_period) + 'minutes_4month_' + current_time + '_1.csv'\n",
    "\n",
    "currency_hist_data.to_csv(save_file_train2, index=False, encoding='UTF-8_sig')"
   ]
  },
  {
   "cell_type": "code",
   "execution_count": 0,
   "metadata": {
    "colab": {
     "autoexec": {
      "startup": false,
      "wait_interval": 0
     }
    },
    "colab_type": "code",
    "collapsed": true,
    "id": "n8m-ZrfZ5dA5"
   },
   "outputs": [],
   "source": [
    "#データの読み込み\n",
    "coin_data = pd.read_csv(save_file_train2, encoding='UTF-8_sig')\n",
    "coin_data['DATE'] = coin_data.DATE.apply(lambda x: datetime.datetime.strptime(x, '%Y-%m-%d %H:%M:%S'))"
   ]
  },
  {
   "cell_type": "code",
   "execution_count": 0,
   "metadata": {
    "colab": {
     "autoexec": {
      "startup": false,
      "wait_interval": 0
     }
    },
    "colab_type": "code",
    "collapsed": true,
    "id": "ft77KOaT5dA-"
   },
   "outputs": [],
   "source": [
    "date_border = coin_data.loc[0].DATE + datetime.timedelta(days=20)\n",
    "coin_data_ = coin_data[coin_data.DATE >= date_border]"
   ]
  },
  {
   "cell_type": "code",
   "execution_count": 0,
   "metadata": {
    "colab": {
     "autoexec": {
      "startup": false,
      "wait_interval": 0
     }
    },
    "colab_type": "code",
    "collapsed": true,
    "id": "r58eYWtO5dBE"
   },
   "outputs": [],
   "source": [
    "save_file_train3 = './currency_data/'+ target_pair + '_' + str(sampling_period) + 'minutes_4month_' + current_time + '_2.csv'\n",
    "coin_data_.to_csv(save_file_train3, index=False, encoding='UTF-8_sig')"
   ]
  }
 ],
 "metadata": {
  "anaconda-cloud": {},
  "colab": {
   "collapsed_sections": [],
   "default_view": {},
   "name": "get_polo_data_20180216.ipynb",
   "provenance": [],
   "version": "0.3.2",
   "views": {}
  },
  "kernelspec": {
   "display_name": "Python [default]",
   "language": "python",
   "name": "python3"
  },
  "language_info": {
   "codemirror_mode": {
    "name": "ipython",
    "version": 3
   },
   "file_extension": ".py",
   "mimetype": "text/x-python",
   "name": "python",
   "nbconvert_exporter": "python",
   "pygments_lexer": "ipython3",
   "version": "3.5.2"
  }
 },
 "nbformat": 4,
 "nbformat_minor": 0
}
